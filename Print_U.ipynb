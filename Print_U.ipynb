{
 "cells": [
  {
   "cell_type": "code",
   "execution_count": 1,
   "metadata": {
    "collapsed": false
   },
   "outputs": [
    {
     "name": "stdout",
     "output_type": "stream",
     "text": [
      "5\n",
      "*   *\n",
      "*   *\n",
      "*   *\n",
      "*   *\n",
      "* * * \n"
     ]
    }
   ],
   "source": [
    "def print_U(n):\n",
    "    for i in range(n):\n",
    "        if i==n-1:\n",
    "            for j in range(n//2+1):\n",
    "                print('*',end=' ')\n",
    "            print()\n",
    "        else:\n",
    "            print('*',end='')\n",
    "            for j in range(n-2):\n",
    "                print(' ',end='')\n",
    "            print('*')\n",
    "            \n",
    "            \n",
    "num = int(input())\n",
    "print_U(num)"
   ]
  },
  {
   "cell_type": "code",
   "execution_count": 2,
   "metadata": {
    "collapsed": false
   },
   "outputs": [
    {
     "name": "stdout",
     "output_type": "stream",
     "text": [
      "*     *\n",
      "*     *\n",
      "*     *\n",
      "*     *\n",
      "*     *\n",
      "*     *\n",
      "* * * * \n"
     ]
    }
   ],
   "source": [
    "print_U(7)"
   ]
  },
  {
   "cell_type": "code",
   "execution_count": 3,
   "metadata": {
    "collapsed": false
   },
   "outputs": [
    {
     "name": "stdout",
     "output_type": "stream",
     "text": [
      "*             *\n",
      "*             *\n",
      "*             *\n",
      "*             *\n",
      "*             *\n",
      "*             *\n",
      "*             *\n",
      "*             *\n",
      "*             *\n",
      "*             *\n",
      "*             *\n",
      "*             *\n",
      "*             *\n",
      "*             *\n",
      "* * * * * * * * \n"
     ]
    }
   ],
   "source": [
    "print_U(15)"
   ]
  },
  {
   "cell_type": "code",
   "execution_count": 9,
   "metadata": {
    "collapsed": false
   },
   "outputs": [
    {
     "name": "stdout",
     "output_type": "stream",
     "text": [
      "5\n",
      "*     *\n",
      "*     *\n",
      "*     *\n",
      "*     *\n",
      "* * * * \n"
     ]
    }
   ],
   "source": [
    "def print_U2(n):\n",
    "    for i in range(n):\n",
    "        if i < n-1:\n",
    "            print('*',end='')\n",
    "            for j in range(2*n-5):\n",
    "                print(' ',end='')\n",
    "            print('*')\n",
    "        else:\n",
    "            for j in range(n-1):\n",
    "                print('*',end=' ')\n",
    "            print()\n",
    "            \n",
    "            \n",
    "num = int(input())\n",
    "print_U2(num)"
   ]
  },
  {
   "cell_type": "code",
   "execution_count": 10,
   "metadata": {
    "collapsed": false
   },
   "outputs": [
    {
     "name": "stdout",
     "output_type": "stream",
     "text": [
      "*           *\n",
      "*           *\n",
      "*           *\n",
      "*           *\n",
      "*           *\n",
      "*           *\n",
      "*           *\n",
      "* * * * * * * \n"
     ]
    }
   ],
   "source": [
    "print_U2(8)"
   ]
  },
  {
   "cell_type": "code",
   "execution_count": 11,
   "metadata": {
    "collapsed": false
   },
   "outputs": [
    {
     "name": "stdout",
     "output_type": "stream",
     "text": [
      "*         *\n",
      "*         *\n",
      "*         *\n",
      "*         *\n",
      "*         *\n",
      "*         *\n",
      "* * * * * * \n"
     ]
    }
   ],
   "source": [
    "print_U2(7)"
   ]
  },
  {
   "cell_type": "code",
   "execution_count": 12,
   "metadata": {
    "collapsed": false
   },
   "outputs": [
    {
     "name": "stdout",
     "output_type": "stream",
     "text": [
      "*                         *\n",
      "*                         *\n",
      "*                         *\n",
      "*                         *\n",
      "*                         *\n",
      "*                         *\n",
      "*                         *\n",
      "*                         *\n",
      "*                         *\n",
      "*                         *\n",
      "*                         *\n",
      "*                         *\n",
      "*                         *\n",
      "*                         *\n",
      "* * * * * * * * * * * * * * \n"
     ]
    }
   ],
   "source": [
    "print_U2(15)"
   ]
  },
  {
   "cell_type": "code",
   "execution_count": 13,
   "metadata": {
    "collapsed": false
   },
   "outputs": [
    {
     "name": "stdout",
     "output_type": "stream",
     "text": [
      "*                                                                           *\n",
      "*                                                                           *\n",
      "*                                                                           *\n",
      "*                                                                           *\n",
      "*                                                                           *\n",
      "*                                                                           *\n",
      "*                                                                           *\n",
      "*                                                                           *\n",
      "*                                                                           *\n",
      "*                                                                           *\n",
      "*                                                                           *\n",
      "*                                                                           *\n",
      "*                                                                           *\n",
      "*                                                                           *\n",
      "*                                                                           *\n",
      "*                                                                           *\n",
      "*                                                                           *\n",
      "*                                                                           *\n",
      "*                                                                           *\n",
      "*                                                                           *\n",
      "*                                                                           *\n",
      "*                                                                           *\n",
      "*                                                                           *\n",
      "*                                                                           *\n",
      "*                                                                           *\n",
      "*                                                                           *\n",
      "*                                                                           *\n",
      "*                                                                           *\n",
      "*                                                                           *\n",
      "*                                                                           *\n",
      "*                                                                           *\n",
      "*                                                                           *\n",
      "*                                                                           *\n",
      "*                                                                           *\n",
      "*                                                                           *\n",
      "*                                                                           *\n",
      "*                                                                           *\n",
      "*                                                                           *\n",
      "*                                                                           *\n",
      "* * * * * * * * * * * * * * * * * * * * * * * * * * * * * * * * * * * * * * * \n"
     ]
    }
   ],
   "source": [
    "print_U2(40)"
   ]
  },
  {
   "cell_type": "code",
   "execution_count": 14,
   "metadata": {
    "collapsed": false
   },
   "outputs": [
    {
     "name": "stdout",
     "output_type": "stream",
     "text": [
      "*                                                                                               *\n",
      "*                                                                                               *\n",
      "*                                                                                               *\n",
      "*                                                                                               *\n",
      "*                                                                                               *\n",
      "*                                                                                               *\n",
      "*                                                                                               *\n",
      "*                                                                                               *\n",
      "*                                                                                               *\n",
      "*                                                                                               *\n",
      "*                                                                                               *\n",
      "*                                                                                               *\n",
      "*                                                                                               *\n",
      "*                                                                                               *\n",
      "*                                                                                               *\n",
      "*                                                                                               *\n",
      "*                                                                                               *\n",
      "*                                                                                               *\n",
      "*                                                                                               *\n",
      "*                                                                                               *\n",
      "*                                                                                               *\n",
      "*                                                                                               *\n",
      "*                                                                                               *\n",
      "*                                                                                               *\n",
      "*                                                                                               *\n",
      "*                                                                                               *\n",
      "*                                                                                               *\n",
      "*                                                                                               *\n",
      "*                                                                                               *\n",
      "*                                                                                               *\n",
      "*                                                                                               *\n",
      "*                                                                                               *\n",
      "*                                                                                               *\n",
      "*                                                                                               *\n",
      "*                                                                                               *\n",
      "*                                                                                               *\n",
      "*                                                                                               *\n",
      "*                                                                                               *\n",
      "*                                                                                               *\n",
      "*                                                                                               *\n",
      "*                                                                                               *\n",
      "*                                                                                               *\n",
      "*                                                                                               *\n",
      "*                                                                                               *\n",
      "*                                                                                               *\n",
      "*                                                                                               *\n",
      "*                                                                                               *\n",
      "*                                                                                               *\n",
      "*                                                                                               *\n",
      "* * * * * * * * * * * * * * * * * * * * * * * * * * * * * * * * * * * * * * * * * * * * * * * * * \n"
     ]
    }
   ],
   "source": [
    "print_U2(50)"
   ]
  },
  {
   "cell_type": "code",
   "execution_count": null,
   "metadata": {
    "collapsed": true
   },
   "outputs": [],
   "source": []
  }
 ],
 "metadata": {
  "kernelspec": {
   "display_name": "Python 3",
   "language": "python",
   "name": "python3"
  },
  "language_info": {
   "codemirror_mode": {
    "name": "ipython",
    "version": 3
   },
   "file_extension": ".py",
   "mimetype": "text/x-python",
   "name": "python",
   "nbconvert_exporter": "python",
   "pygments_lexer": "ipython3",
   "version": "3.5.2"
  }
 },
 "nbformat": 4,
 "nbformat_minor": 2
}
