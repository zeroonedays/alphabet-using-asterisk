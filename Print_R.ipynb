{
 "cells": [
  {
   "cell_type": "code",
   "execution_count": 1,
   "metadata": {
    "collapsed": false
   },
   "outputs": [
    {
     "name": "stdout",
     "output_type": "stream",
     "text": [
      "5\n",
      "* * * \n",
      "*   *\n",
      "* * * \n",
      "* *\n",
      "*   *\n"
     ]
    }
   ],
   "source": [
    "def print_R(n):\n",
    "    if n%2==0:\n",
    "        n = n+1\n",
    "    for i in range(n):\n",
    "        if i==0 or i==n//2:\n",
    "            for j in range((n+1)//2):\n",
    "                print('*',end=' ')\n",
    "            print()\n",
    "        elif i > n//2:\n",
    "            print('*',end='')\n",
    "            for j in range(2*i-n):\n",
    "                print(' ',end='')\n",
    "            print('*')\n",
    "        else:\n",
    "            print('*',end='')\n",
    "            for j in range(n-2):\n",
    "                print(' ',end='')\n",
    "            print('*')\n",
    "            \n",
    "            \n",
    "            \n",
    "num = int(input())\n",
    "print_R(num)"
   ]
  },
  {
   "cell_type": "code",
   "execution_count": 2,
   "metadata": {
    "collapsed": false
   },
   "outputs": [
    {
     "name": "stdout",
     "output_type": "stream",
     "text": [
      "* * * * \n",
      "*     *\n",
      "*     *\n",
      "* * * * \n",
      "* *\n",
      "*   *\n",
      "*     *\n"
     ]
    }
   ],
   "source": [
    "print_R(7)"
   ]
  },
  {
   "cell_type": "code",
   "execution_count": 3,
   "metadata": {
    "collapsed": false
   },
   "outputs": [
    {
     "name": "stdout",
     "output_type": "stream",
     "text": [
      "* * * * * * * * * * * \n",
      "*                   *\n",
      "*                   *\n",
      "*                   *\n",
      "*                   *\n",
      "*                   *\n",
      "*                   *\n",
      "*                   *\n",
      "*                   *\n",
      "*                   *\n",
      "* * * * * * * * * * * \n",
      "* *\n",
      "*   *\n",
      "*     *\n",
      "*       *\n",
      "*         *\n",
      "*           *\n",
      "*             *\n",
      "*               *\n",
      "*                 *\n",
      "*                   *\n"
     ]
    }
   ],
   "source": [
    "print_R(20)"
   ]
  },
  {
   "cell_type": "code",
   "execution_count": 4,
   "metadata": {
    "collapsed": false
   },
   "outputs": [
    {
     "name": "stdout",
     "output_type": "stream",
     "text": [
      "* * * * * * * * * * * * * * * * * * \n",
      "*                                 *\n",
      "*                                 *\n",
      "*                                 *\n",
      "*                                 *\n",
      "*                                 *\n",
      "*                                 *\n",
      "*                                 *\n",
      "*                                 *\n",
      "*                                 *\n",
      "*                                 *\n",
      "*                                 *\n",
      "*                                 *\n",
      "*                                 *\n",
      "*                                 *\n",
      "*                                 *\n",
      "*                                 *\n",
      "* * * * * * * * * * * * * * * * * * \n",
      "* *\n",
      "*   *\n",
      "*     *\n",
      "*       *\n",
      "*         *\n",
      "*           *\n",
      "*             *\n",
      "*               *\n",
      "*                 *\n",
      "*                   *\n",
      "*                     *\n",
      "*                       *\n",
      "*                         *\n",
      "*                           *\n",
      "*                             *\n",
      "*                               *\n",
      "*                                 *\n"
     ]
    }
   ],
   "source": [
    "print_R(35)"
   ]
  },
  {
   "cell_type": "code",
   "execution_count": 5,
   "metadata": {
    "collapsed": false
   },
   "outputs": [
    {
     "name": "stdout",
     "output_type": "stream",
     "text": [
      "* * * * * * * * * * * * * * * * * * * * * * * * * * \n",
      "*                                                 *\n",
      "*                                                 *\n",
      "*                                                 *\n",
      "*                                                 *\n",
      "*                                                 *\n",
      "*                                                 *\n",
      "*                                                 *\n",
      "*                                                 *\n",
      "*                                                 *\n",
      "*                                                 *\n",
      "*                                                 *\n",
      "*                                                 *\n",
      "*                                                 *\n",
      "*                                                 *\n",
      "*                                                 *\n",
      "*                                                 *\n",
      "*                                                 *\n",
      "*                                                 *\n",
      "*                                                 *\n",
      "*                                                 *\n",
      "*                                                 *\n",
      "*                                                 *\n",
      "*                                                 *\n",
      "*                                                 *\n",
      "* * * * * * * * * * * * * * * * * * * * * * * * * * \n",
      "* *\n",
      "*   *\n",
      "*     *\n",
      "*       *\n",
      "*         *\n",
      "*           *\n",
      "*             *\n",
      "*               *\n",
      "*                 *\n",
      "*                   *\n",
      "*                     *\n",
      "*                       *\n",
      "*                         *\n",
      "*                           *\n",
      "*                             *\n",
      "*                               *\n",
      "*                                 *\n",
      "*                                   *\n",
      "*                                     *\n",
      "*                                       *\n",
      "*                                         *\n",
      "*                                           *\n",
      "*                                             *\n",
      "*                                               *\n",
      "*                                                 *\n"
     ]
    }
   ],
   "source": [
    "print_R(50)"
   ]
  },
  {
   "cell_type": "code",
   "execution_count": null,
   "metadata": {
    "collapsed": true
   },
   "outputs": [],
   "source": []
  }
 ],
 "metadata": {
  "kernelspec": {
   "display_name": "Python 3",
   "language": "python",
   "name": "python3"
  },
  "language_info": {
   "codemirror_mode": {
    "name": "ipython",
    "version": 3
   },
   "file_extension": ".py",
   "mimetype": "text/x-python",
   "name": "python",
   "nbconvert_exporter": "python",
   "pygments_lexer": "ipython3",
   "version": "3.5.2"
  }
 },
 "nbformat": 4,
 "nbformat_minor": 2
}
