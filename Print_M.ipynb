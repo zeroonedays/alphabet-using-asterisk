{
 "cells": [
  {
   "cell_type": "code",
   "execution_count": 11,
   "metadata": {
    "collapsed": false
   },
   "outputs": [
    {
     "name": "stdout",
     "output_type": "stream",
     "text": [
      "5\n",
      "*       *\n",
      "* *   * *\n",
      "*   *   *\n",
      "*       *\n",
      "*       *\n"
     ]
    }
   ],
   "source": [
    "def print_M(n):\n",
    "    if n%2==0:\n",
    "        n = n+1\n",
    "    for i in range(n):\n",
    "        if i==0 or i > n//2:\n",
    "            print('*',end='')\n",
    "            for j in range(n+2):\n",
    "                print(' ',end='')\n",
    "            print('*')\n",
    "        elif i==n//2:\n",
    "            print('*',end='')\n",
    "            for j in range((n+1)//2):\n",
    "                print(' ',end='')\n",
    "            print('*',end='')\n",
    "            for k in range((n+1)//2):\n",
    "                print(' ',end='')\n",
    "            print('*')\n",
    "        else:\n",
    "            print('*',end='')\n",
    "            for j in range(i):\n",
    "                print(' ',end='')\n",
    "            print('*',end='')\n",
    "            for k in range(n-2*i):\n",
    "                print(' ',end='')\n",
    "            print('*',end='')\n",
    "            for l in range(i):\n",
    "                print(' ',end='')\n",
    "            print('*')\n",
    "            \n",
    "            \n",
    "num = int(input())\n",
    "print_M(num)"
   ]
  },
  {
   "cell_type": "code",
   "execution_count": 12,
   "metadata": {
    "collapsed": false
   },
   "outputs": [
    {
     "name": "stdout",
     "output_type": "stream",
     "text": [
      "*         *\n",
      "* *     * *\n",
      "*  *   *  *\n",
      "*    *    *\n",
      "*         *\n",
      "*         *\n",
      "*         *\n"
     ]
    }
   ],
   "source": [
    "print_M(7)"
   ]
  },
  {
   "cell_type": "code",
   "execution_count": 13,
   "metadata": {
    "collapsed": false
   },
   "outputs": [
    {
     "name": "stdout",
     "output_type": "stream",
     "text": [
      "*                 *\n",
      "* *             * *\n",
      "*  *           *  *\n",
      "*   *         *   *\n",
      "*    *       *    *\n",
      "*     *     *     *\n",
      "*      *   *      *\n",
      "*        *        *\n",
      "*                 *\n",
      "*                 *\n",
      "*                 *\n",
      "*                 *\n",
      "*                 *\n",
      "*                 *\n",
      "*                 *\n"
     ]
    }
   ],
   "source": [
    "print_M(14)"
   ]
  },
  {
   "cell_type": "code",
   "execution_count": 14,
   "metadata": {
    "collapsed": false,
    "scrolled": true
   },
   "outputs": [
    {
     "name": "stdout",
     "output_type": "stream",
     "text": [
      "*                           *\n",
      "* *                       * *\n",
      "*  *                     *  *\n",
      "*   *                   *   *\n",
      "*    *                 *    *\n",
      "*     *               *     *\n",
      "*      *             *      *\n",
      "*       *           *       *\n",
      "*        *         *        *\n",
      "*         *       *         *\n",
      "*          *     *          *\n",
      "*           *   *           *\n",
      "*             *             *\n",
      "*                           *\n",
      "*                           *\n",
      "*                           *\n",
      "*                           *\n",
      "*                           *\n",
      "*                           *\n",
      "*                           *\n",
      "*                           *\n",
      "*                           *\n",
      "*                           *\n",
      "*                           *\n",
      "*                           *\n"
     ]
    }
   ],
   "source": [
    "print_M(25)"
   ]
  },
  {
   "cell_type": "code",
   "execution_count": 15,
   "metadata": {
    "collapsed": false
   },
   "outputs": [
    {
     "name": "stdout",
     "output_type": "stream",
     "text": [
      "*                                                                         *\n",
      "* *                                                                     * *\n",
      "*  *                                                                   *  *\n",
      "*   *                                                                 *   *\n",
      "*    *                                                               *    *\n",
      "*     *                                                             *     *\n",
      "*      *                                                           *      *\n",
      "*       *                                                         *       *\n",
      "*        *                                                       *        *\n",
      "*         *                                                     *         *\n",
      "*          *                                                   *          *\n",
      "*           *                                                 *           *\n",
      "*            *                                               *            *\n",
      "*             *                                             *             *\n",
      "*              *                                           *              *\n",
      "*               *                                         *               *\n",
      "*                *                                       *                *\n",
      "*                 *                                     *                 *\n",
      "*                  *                                   *                  *\n",
      "*                   *                                 *                   *\n",
      "*                    *                               *                    *\n",
      "*                     *                             *                     *\n",
      "*                      *                           *                      *\n",
      "*                       *                         *                       *\n",
      "*                        *                       *                        *\n",
      "*                         *                     *                         *\n",
      "*                          *                   *                          *\n",
      "*                           *                 *                           *\n",
      "*                            *               *                            *\n",
      "*                             *             *                             *\n",
      "*                              *           *                              *\n",
      "*                               *         *                               *\n",
      "*                                *       *                                *\n",
      "*                                 *     *                                 *\n",
      "*                                  *   *                                  *\n",
      "*                                    *                                    *\n",
      "*                                                                         *\n",
      "*                                                                         *\n",
      "*                                                                         *\n",
      "*                                                                         *\n",
      "*                                                                         *\n",
      "*                                                                         *\n",
      "*                                                                         *\n",
      "*                                                                         *\n",
      "*                                                                         *\n",
      "*                                                                         *\n",
      "*                                                                         *\n",
      "*                                                                         *\n",
      "*                                                                         *\n",
      "*                                                                         *\n",
      "*                                                                         *\n",
      "*                                                                         *\n",
      "*                                                                         *\n",
      "*                                                                         *\n",
      "*                                                                         *\n",
      "*                                                                         *\n",
      "*                                                                         *\n",
      "*                                                                         *\n",
      "*                                                                         *\n",
      "*                                                                         *\n",
      "*                                                                         *\n",
      "*                                                                         *\n",
      "*                                                                         *\n",
      "*                                                                         *\n",
      "*                                                                         *\n",
      "*                                                                         *\n",
      "*                                                                         *\n",
      "*                                                                         *\n",
      "*                                                                         *\n",
      "*                                                                         *\n",
      "*                                                                         *\n"
     ]
    }
   ],
   "source": [
    "print_M(70)"
   ]
  },
  {
   "cell_type": "code",
   "execution_count": 16,
   "metadata": {
    "collapsed": false
   },
   "outputs": [
    {
     "name": "stdout",
     "output_type": "stream",
     "text": [
      "*                                 *\n",
      "* *                             * *\n",
      "*  *                           *  *\n",
      "*   *                         *   *\n",
      "*    *                       *    *\n",
      "*     *                     *     *\n",
      "*      *                   *      *\n",
      "*       *                 *       *\n",
      "*        *               *        *\n",
      "*         *             *         *\n",
      "*          *           *          *\n",
      "*           *         *           *\n",
      "*            *       *            *\n",
      "*             *     *             *\n",
      "*              *   *              *\n",
      "*                *                *\n",
      "*                                 *\n",
      "*                                 *\n",
      "*                                 *\n",
      "*                                 *\n",
      "*                                 *\n",
      "*                                 *\n",
      "*                                 *\n",
      "*                                 *\n",
      "*                                 *\n",
      "*                                 *\n",
      "*                                 *\n",
      "*                                 *\n",
      "*                                 *\n",
      "*                                 *\n",
      "*                                 *\n"
     ]
    }
   ],
   "source": [
    "print_M(30)"
   ]
  },
  {
   "cell_type": "code",
   "execution_count": null,
   "metadata": {
    "collapsed": true
   },
   "outputs": [],
   "source": []
  }
 ],
 "metadata": {
  "kernelspec": {
   "display_name": "Python 3",
   "language": "python",
   "name": "python3"
  },
  "language_info": {
   "codemirror_mode": {
    "name": "ipython",
    "version": 3
   },
   "file_extension": ".py",
   "mimetype": "text/x-python",
   "name": "python",
   "nbconvert_exporter": "python",
   "pygments_lexer": "ipython3",
   "version": "3.5.2"
  }
 },
 "nbformat": 4,
 "nbformat_minor": 2
}
