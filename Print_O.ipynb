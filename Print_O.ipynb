{
 "cells": [
  {
   "cell_type": "code",
   "execution_count": 2,
   "metadata": {
    "collapsed": false
   },
   "outputs": [
    {
     "name": "stdout",
     "output_type": "stream",
     "text": [
      "5\n",
      " * * * \n",
      "*     *\n",
      "*     *\n",
      "*     *\n",
      " * * * \n"
     ]
    }
   ],
   "source": [
    "def print_O(n):\n",
    "    for i in range(n):\n",
    "        if i ==0 or i==n-1:\n",
    "            print(' ',end='')\n",
    "            for j in range(n-2):\n",
    "                print('*',end=' ')\n",
    "            print()\n",
    "        else:\n",
    "            print('*',end='')\n",
    "            for j in range(2*n-5):\n",
    "                print(' ',end='')\n",
    "            print('*')\n",
    "        \n",
    "        \n",
    "num = int(input())\n",
    "print_O(num)"
   ]
  },
  {
   "cell_type": "code",
   "execution_count": 4,
   "metadata": {
    "collapsed": false
   },
   "outputs": [
    {
     "name": "stdout",
     "output_type": "stream",
     "text": [
      " * * * * * \n",
      "*         *\n",
      "*         *\n",
      "*         *\n",
      "*         *\n",
      "*         *\n",
      " * * * * * \n"
     ]
    }
   ],
   "source": [
    "print_O(7)"
   ]
  },
  {
   "cell_type": "code",
   "execution_count": 5,
   "metadata": {
    "collapsed": false
   },
   "outputs": [
    {
     "name": "stdout",
     "output_type": "stream",
     "text": [
      " * * * * * * * * * * * * * * * * * * \n",
      "*                                   *\n",
      "*                                   *\n",
      "*                                   *\n",
      "*                                   *\n",
      "*                                   *\n",
      "*                                   *\n",
      "*                                   *\n",
      "*                                   *\n",
      "*                                   *\n",
      "*                                   *\n",
      "*                                   *\n",
      "*                                   *\n",
      "*                                   *\n",
      "*                                   *\n",
      "*                                   *\n",
      "*                                   *\n",
      "*                                   *\n",
      "*                                   *\n",
      " * * * * * * * * * * * * * * * * * * \n"
     ]
    }
   ],
   "source": [
    "print_O(20)"
   ]
  },
  {
   "cell_type": "code",
   "execution_count": 6,
   "metadata": {
    "collapsed": false
   },
   "outputs": [
    {
     "name": "stdout",
     "output_type": "stream",
     "text": [
      " * * * * * * * * * * * * * * * * * * * * * * * * * * * * * * * * \n",
      "*                                                               *\n",
      "*                                                               *\n",
      "*                                                               *\n",
      "*                                                               *\n",
      "*                                                               *\n",
      "*                                                               *\n",
      "*                                                               *\n",
      "*                                                               *\n",
      "*                                                               *\n",
      "*                                                               *\n",
      "*                                                               *\n",
      "*                                                               *\n",
      "*                                                               *\n",
      "*                                                               *\n",
      "*                                                               *\n",
      "*                                                               *\n",
      "*                                                               *\n",
      "*                                                               *\n",
      "*                                                               *\n",
      "*                                                               *\n",
      "*                                                               *\n",
      "*                                                               *\n",
      "*                                                               *\n",
      "*                                                               *\n",
      "*                                                               *\n",
      "*                                                               *\n",
      "*                                                               *\n",
      "*                                                               *\n",
      "*                                                               *\n",
      "*                                                               *\n",
      "*                                                               *\n",
      "*                                                               *\n",
      " * * * * * * * * * * * * * * * * * * * * * * * * * * * * * * * * \n"
     ]
    }
   ],
   "source": [
    "print_O(34)"
   ]
  },
  {
   "cell_type": "code",
   "execution_count": 7,
   "metadata": {
    "collapsed": false
   },
   "outputs": [
    {
     "name": "stdout",
     "output_type": "stream",
     "text": [
      " * * * * * * * * * * * * * * * * * * * * * * * * * * * * * * * * * * * * * * * * * * * * * * * * \n",
      "*                                                                                               *\n",
      "*                                                                                               *\n",
      "*                                                                                               *\n",
      "*                                                                                               *\n",
      "*                                                                                               *\n",
      "*                                                                                               *\n",
      "*                                                                                               *\n",
      "*                                                                                               *\n",
      "*                                                                                               *\n",
      "*                                                                                               *\n",
      "*                                                                                               *\n",
      "*                                                                                               *\n",
      "*                                                                                               *\n",
      "*                                                                                               *\n",
      "*                                                                                               *\n",
      "*                                                                                               *\n",
      "*                                                                                               *\n",
      "*                                                                                               *\n",
      "*                                                                                               *\n",
      "*                                                                                               *\n",
      "*                                                                                               *\n",
      "*                                                                                               *\n",
      "*                                                                                               *\n",
      "*                                                                                               *\n",
      "*                                                                                               *\n",
      "*                                                                                               *\n",
      "*                                                                                               *\n",
      "*                                                                                               *\n",
      "*                                                                                               *\n",
      "*                                                                                               *\n",
      "*                                                                                               *\n",
      "*                                                                                               *\n",
      "*                                                                                               *\n",
      "*                                                                                               *\n",
      "*                                                                                               *\n",
      "*                                                                                               *\n",
      "*                                                                                               *\n",
      "*                                                                                               *\n",
      "*                                                                                               *\n",
      "*                                                                                               *\n",
      "*                                                                                               *\n",
      "*                                                                                               *\n",
      "*                                                                                               *\n",
      "*                                                                                               *\n",
      "*                                                                                               *\n",
      "*                                                                                               *\n",
      "*                                                                                               *\n",
      "*                                                                                               *\n",
      " * * * * * * * * * * * * * * * * * * * * * * * * * * * * * * * * * * * * * * * * * * * * * * * * \n"
     ]
    }
   ],
   "source": [
    "print_O(50)"
   ]
  },
  {
   "cell_type": "code",
   "execution_count": null,
   "metadata": {
    "collapsed": true
   },
   "outputs": [],
   "source": []
  }
 ],
 "metadata": {
  "kernelspec": {
   "display_name": "Python 3",
   "language": "python",
   "name": "python3"
  },
  "language_info": {
   "codemirror_mode": {
    "name": "ipython",
    "version": 3
   },
   "file_extension": ".py",
   "mimetype": "text/x-python",
   "name": "python",
   "nbconvert_exporter": "python",
   "pygments_lexer": "ipython3",
   "version": "3.5.2"
  }
 },
 "nbformat": 4,
 "nbformat_minor": 2
}
