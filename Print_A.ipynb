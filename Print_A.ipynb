{
 "cells": [
  {
   "cell_type": "code",
   "execution_count": 1,
   "metadata": {
    "collapsed": false,
    "scrolled": true
   },
   "outputs": [
    {
     "name": "stdout",
     "output_type": "stream",
     "text": [
      "A\n"
     ]
    }
   ],
   "source": [
    "print('A')"
   ]
  },
  {
   "cell_type": "code",
   "execution_count": 27,
   "metadata": {
    "collapsed": false
   },
   "outputs": [
    {
     "name": "stdout",
     "output_type": "stream",
     "text": [
      "Enter a number5\n",
      "     *\n",
      "    * *\n",
      "   * * * \n",
      "  *     *\n",
      " *       *\n"
     ]
    }
   ],
   "source": [
    "n = int(input('Enter a number'))\n",
    "for i in range(n):\n",
    "    if i==0:\n",
    "        for j in range(n):\n",
    "            print(' ',end='')\n",
    "        print('*')\n",
    "    elif i == n//2:\n",
    "        for j in range(n//2+1):\n",
    "            print(' ',end='')\n",
    "        for K in range((n+1)//2):\n",
    "            print('*',end=' ')\n",
    "        print()\n",
    "    else:\n",
    "        for j in range(n-i):\n",
    "            print(' ',end='')\n",
    "        print('*',end='')\n",
    "        for k in range(2*i-1):\n",
    "            print(' ',end='')\n",
    "\n",
    "        print('*')"
   ]
  },
  {
   "cell_type": "code",
   "execution_count": 19,
   "metadata": {
    "collapsed": false
   },
   "outputs": [
    {
     "name": "stdout",
     "output_type": "stream",
     "text": [
      "7\n",
      "       *\n",
      "      * *\n",
      "     *   *\n",
      "    * * * * \n",
      "   *       *\n",
      "  *         *\n",
      " *           *\n"
     ]
    }
   ],
   "source": [
    "def print_A(n):\n",
    "    for i in range(n):\n",
    "        if i==0:\n",
    "            for j in range(n):\n",
    "                print(' ',end='')\n",
    "            print('*')\n",
    "        elif i == n//2:\n",
    "            for j in range(n//2+1):\n",
    "                print(' ',end='')\n",
    "            for K in range((n+1)//2):\n",
    "                print('*',end=' ')\n",
    "            print()\n",
    "        else:\n",
    "            for j in range(n-i):\n",
    "                print(' ',end='')\n",
    "            print('*',end='')\n",
    "            for k in range(2*i-1):\n",
    "                print(' ',end='')\n",
    "            print('*')\n",
    "num = int(input())\n",
    "print_A(num)"
   ]
  },
  {
   "cell_type": "code",
   "execution_count": 21,
   "metadata": {
    "collapsed": false
   },
   "outputs": [
    {
     "name": "stdout",
     "output_type": "stream",
     "text": [
      "               *\n",
      "              * *\n",
      "             *   *\n",
      "            *     *\n",
      "           *       *\n",
      "          *         *\n",
      "         *           *\n",
      "        * * * * * * * * \n",
      "       *               *\n",
      "      *                 *\n",
      "     *                   *\n",
      "    *                     *\n",
      "   *                       *\n",
      "  *                         *\n",
      " *                           *\n"
     ]
    }
   ],
   "source": [
    "print_A(15)"
   ]
  },
  {
   "cell_type": "code",
   "execution_count": 22,
   "metadata": {
    "collapsed": false
   },
   "outputs": [
    {
     "name": "stdout",
     "output_type": "stream",
     "text": [
      "                       *\n",
      "                      * *\n",
      "                     *   *\n",
      "                    *     *\n",
      "                   *       *\n",
      "                  *         *\n",
      "                 *           *\n",
      "                *             *\n",
      "               *               *\n",
      "              *                 *\n",
      "             *                   *\n",
      "            * * * * * * * * * * * * \n",
      "           *                       *\n",
      "          *                         *\n",
      "         *                           *\n",
      "        *                             *\n",
      "       *                               *\n",
      "      *                                 *\n",
      "     *                                   *\n",
      "    *                                     *\n",
      "   *                                       *\n",
      "  *                                         *\n",
      " *                                           *\n"
     ]
    }
   ],
   "source": [
    "print_A(23)"
   ]
  },
  {
   "cell_type": "code",
   "execution_count": 23,
   "metadata": {
    "collapsed": false
   },
   "outputs": [
    {
     "name": "stdout",
     "output_type": "stream",
     "text": [
      "                        *\n",
      "                       * *\n",
      "                      *   *\n",
      "                     *     *\n",
      "                    *       *\n",
      "                   *         *\n",
      "                  *           *\n",
      "                 *             *\n",
      "                *               *\n",
      "               *                 *\n",
      "              *                   *\n",
      "             *                     *\n",
      "             * * * * * * * * * * * * \n",
      "           *                         *\n",
      "          *                           *\n",
      "         *                             *\n",
      "        *                               *\n",
      "       *                                 *\n",
      "      *                                   *\n",
      "     *                                     *\n",
      "    *                                       *\n",
      "   *                                         *\n",
      "  *                                           *\n",
      " *                                             *\n"
     ]
    }
   ],
   "source": [
    "print_A(24)"
   ]
  },
  {
   "cell_type": "code",
   "execution_count": 24,
   "metadata": {
    "collapsed": false
   },
   "outputs": [
    {
     "name": "stdout",
     "output_type": "stream",
     "text": [
      "4\n",
      "     *\n",
      "    * *\n",
      "   * * * \n",
      "  *     *\n",
      " *       *\n"
     ]
    }
   ],
   "source": [
    "def print_A(n):\n",
    "    if n%2==0:\n",
    "        n=n+1\n",
    "    for i in range(n):\n",
    "        if i==0:\n",
    "            for j in range(n):\n",
    "                print(' ',end='')\n",
    "            print('*')\n",
    "        elif i == n//2:\n",
    "            for j in range(n//2+1):\n",
    "                print(' ',end='')\n",
    "            for K in range((n+1)//2):\n",
    "                print('*',end=' ')\n",
    "            print()\n",
    "        else:\n",
    "            for j in range(n-i):\n",
    "                print(' ',end='')\n",
    "            print('*',end='')\n",
    "            for k in range(2*i-1):\n",
    "                print(' ',end='')\n",
    "            print('*')\n",
    "num = int(input())\n",
    "print_A(num)"
   ]
  },
  {
   "cell_type": "code",
   "execution_count": 25,
   "metadata": {
    "collapsed": false
   },
   "outputs": [
    {
     "name": "stdout",
     "output_type": "stream",
     "text": [
      "     *\n",
      "    * *\n",
      "   * * * \n",
      "  *     *\n",
      " *       *\n"
     ]
    }
   ],
   "source": [
    "print_A(5)"
   ]
  },
  {
   "cell_type": "code",
   "execution_count": 26,
   "metadata": {
    "collapsed": false
   },
   "outputs": [
    {
     "name": "stdout",
     "output_type": "stream",
     "text": [
      "                                               *\n",
      "                                              * *\n",
      "                                             *   *\n",
      "                                            *     *\n",
      "                                           *       *\n",
      "                                          *         *\n",
      "                                         *           *\n",
      "                                        *             *\n",
      "                                       *               *\n",
      "                                      *                 *\n",
      "                                     *                   *\n",
      "                                    *                     *\n",
      "                                   *                       *\n",
      "                                  *                         *\n",
      "                                 *                           *\n",
      "                                *                             *\n",
      "                               *                               *\n",
      "                              *                                 *\n",
      "                             *                                   *\n",
      "                            *                                     *\n",
      "                           *                                       *\n",
      "                          *                                         *\n",
      "                         *                                           *\n",
      "                        * * * * * * * * * * * * * * * * * * * * * * * * \n",
      "                       *                                               *\n",
      "                      *                                                 *\n",
      "                     *                                                   *\n",
      "                    *                                                     *\n",
      "                   *                                                       *\n",
      "                  *                                                         *\n",
      "                 *                                                           *\n",
      "                *                                                             *\n",
      "               *                                                               *\n",
      "              *                                                                 *\n",
      "             *                                                                   *\n",
      "            *                                                                     *\n",
      "           *                                                                       *\n",
      "          *                                                                         *\n",
      "         *                                                                           *\n",
      "        *                                                                             *\n",
      "       *                                                                               *\n",
      "      *                                                                                 *\n",
      "     *                                                                                   *\n",
      "    *                                                                                     *\n",
      "   *                                                                                       *\n",
      "  *                                                                                         *\n",
      " *                                                                                           *\n"
     ]
    }
   ],
   "source": [
    "print_A(46)"
   ]
  },
  {
   "cell_type": "code",
   "execution_count": null,
   "metadata": {
    "collapsed": true
   },
   "outputs": [],
   "source": []
  }
 ],
 "metadata": {
  "kernelspec": {
   "display_name": "Python 3",
   "language": "python",
   "name": "python3"
  },
  "language_info": {
   "codemirror_mode": {
    "name": "ipython",
    "version": 3
   },
   "file_extension": ".py",
   "mimetype": "text/x-python",
   "name": "python",
   "nbconvert_exporter": "python",
   "pygments_lexer": "ipython3",
   "version": "3.5.2"
  }
 },
 "nbformat": 4,
 "nbformat_minor": 2
}
