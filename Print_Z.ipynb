{
 "cells": [
  {
   "cell_type": "code",
   "execution_count": 2,
   "metadata": {
    "collapsed": false
   },
   "outputs": [
    {
     "name": "stdout",
     "output_type": "stream",
     "text": [
      "3\n",
      "* * * \n",
      "  *\n",
      "* * * \n"
     ]
    }
   ],
   "source": [
    "def print_Z(n):\n",
    "    for i in range(n):\n",
    "        if i==0 or i==n-1:\n",
    "            for j in range(n):\n",
    "                print('*',end=' ')\n",
    "            print()\n",
    "        else:\n",
    "            for j in range((n-i-1)*2):\n",
    "                print(' ',end='')\n",
    "            print('*')\n",
    "            \n",
    "            \n",
    "num = int(input())\n",
    "print_Z(num)"
   ]
  },
  {
   "cell_type": "code",
   "execution_count": 3,
   "metadata": {
    "collapsed": false
   },
   "outputs": [
    {
     "name": "stdout",
     "output_type": "stream",
     "text": [
      "* * * * * \n",
      "      *\n",
      "    *\n",
      "  *\n",
      "* * * * * \n"
     ]
    }
   ],
   "source": [
    "print_Z(5)"
   ]
  },
  {
   "cell_type": "code",
   "execution_count": 4,
   "metadata": {
    "collapsed": false
   },
   "outputs": [
    {
     "name": "stdout",
     "output_type": "stream",
     "text": [
      "* * * * * * * * * * \n",
      "                *\n",
      "              *\n",
      "            *\n",
      "          *\n",
      "        *\n",
      "      *\n",
      "    *\n",
      "  *\n",
      "* * * * * * * * * * \n"
     ]
    }
   ],
   "source": [
    "print_Z(10)"
   ]
  },
  {
   "cell_type": "code",
   "execution_count": 5,
   "metadata": {
    "collapsed": false
   },
   "outputs": [
    {
     "name": "stdout",
     "output_type": "stream",
     "text": [
      "* * * * * * * * * * * * * * * * * * * * * * * * * * * * * * \n",
      "                                                        *\n",
      "                                                      *\n",
      "                                                    *\n",
      "                                                  *\n",
      "                                                *\n",
      "                                              *\n",
      "                                            *\n",
      "                                          *\n",
      "                                        *\n",
      "                                      *\n",
      "                                    *\n",
      "                                  *\n",
      "                                *\n",
      "                              *\n",
      "                            *\n",
      "                          *\n",
      "                        *\n",
      "                      *\n",
      "                    *\n",
      "                  *\n",
      "                *\n",
      "              *\n",
      "            *\n",
      "          *\n",
      "        *\n",
      "      *\n",
      "    *\n",
      "  *\n",
      "* * * * * * * * * * * * * * * * * * * * * * * * * * * * * * \n"
     ]
    }
   ],
   "source": [
    "print_Z(30)"
   ]
  },
  {
   "cell_type": "code",
   "execution_count": 6,
   "metadata": {
    "collapsed": false
   },
   "outputs": [
    {
     "name": "stdout",
     "output_type": "stream",
     "text": [
      "* * * * * * * * * * * * * * * * * * * * * * * * * * * * * * * * * * * * * * * * * * * * * * * * * * \n",
      "                                                                                                *\n",
      "                                                                                              *\n",
      "                                                                                            *\n",
      "                                                                                          *\n",
      "                                                                                        *\n",
      "                                                                                      *\n",
      "                                                                                    *\n",
      "                                                                                  *\n",
      "                                                                                *\n",
      "                                                                              *\n",
      "                                                                            *\n",
      "                                                                          *\n",
      "                                                                        *\n",
      "                                                                      *\n",
      "                                                                    *\n",
      "                                                                  *\n",
      "                                                                *\n",
      "                                                              *\n",
      "                                                            *\n",
      "                                                          *\n",
      "                                                        *\n",
      "                                                      *\n",
      "                                                    *\n",
      "                                                  *\n",
      "                                                *\n",
      "                                              *\n",
      "                                            *\n",
      "                                          *\n",
      "                                        *\n",
      "                                      *\n",
      "                                    *\n",
      "                                  *\n",
      "                                *\n",
      "                              *\n",
      "                            *\n",
      "                          *\n",
      "                        *\n",
      "                      *\n",
      "                    *\n",
      "                  *\n",
      "                *\n",
      "              *\n",
      "            *\n",
      "          *\n",
      "        *\n",
      "      *\n",
      "    *\n",
      "  *\n",
      "* * * * * * * * * * * * * * * * * * * * * * * * * * * * * * * * * * * * * * * * * * * * * * * * * * \n"
     ]
    }
   ],
   "source": [
    "print_Z(50)"
   ]
  },
  {
   "cell_type": "code",
   "execution_count": null,
   "metadata": {
    "collapsed": true
   },
   "outputs": [],
   "source": []
  }
 ],
 "metadata": {
  "kernelspec": {
   "display_name": "Python 3",
   "language": "python",
   "name": "python3"
  },
  "language_info": {
   "codemirror_mode": {
    "name": "ipython",
    "version": 3
   },
   "file_extension": ".py",
   "mimetype": "text/x-python",
   "name": "python",
   "nbconvert_exporter": "python",
   "pygments_lexer": "ipython3",
   "version": "3.5.2"
  }
 },
 "nbformat": 4,
 "nbformat_minor": 2
}
