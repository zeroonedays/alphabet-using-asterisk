{
 "cells": [
  {
   "cell_type": "code",
   "execution_count": 20,
   "metadata": {
    "collapsed": false
   },
   "outputs": [
    {
     "name": "stdout",
     "output_type": "stream",
     "text": [
      "9\n",
      "* * * * * \n",
      "*       *\n",
      "*       *\n",
      "*       *\n",
      "* * * * * \n",
      "*       *\n",
      "*       *\n",
      "*       *\n",
      "* * * * * \n"
     ]
    }
   ],
   "source": [
    "def print_B(n):\n",
    "    if n%2==0:\n",
    "        n=n+1\n",
    "    for i in range(n):\n",
    "        if i==0 or i==n//2 or i==n-1:\n",
    "            for j in range(n//2+1):\n",
    "                print('*',end=' ')\n",
    "            print()\n",
    "        else:\n",
    "            print('*',end='')\n",
    "            for j in range(n-2):\n",
    "                print(' ',end='')\n",
    "            print('*')\n",
    "num = int(input())\n",
    "print_B(num)"
   ]
  },
  {
   "cell_type": "code",
   "execution_count": 15,
   "metadata": {
    "collapsed": false
   },
   "outputs": [
    {
     "name": "stdout",
     "output_type": "stream",
     "text": [
      "5\n",
      " * * \n",
      "*    *\n",
      "* * * \n",
      "*    *\n",
      " * * \n"
     ]
    }
   ],
   "source": [
    "def print_B2(n):\n",
    "    if n%2==0:\n",
    "        n=n+1\n",
    "    for i in range(n):\n",
    "        if i==0 or i==n-1:\n",
    "            print(' ',end='')\n",
    "            for j in range(n//2):\n",
    "                print('*',end=' ')\n",
    "            print()\n",
    "        elif i==n//2:\n",
    "            for j in range(n//2+1):\n",
    "                print('*',end=' ')\n",
    "            print()\n",
    "        else:\n",
    "            print('*',end='')\n",
    "            for j in range(n-1):\n",
    "                print(' ',end='')\n",
    "            print('*')\n",
    "num = int(input())\n",
    "print_B2(num)"
   ]
  },
  {
   "cell_type": "code",
   "execution_count": 16,
   "metadata": {
    "collapsed": false
   },
   "outputs": [
    {
     "name": "stdout",
     "output_type": "stream",
     "text": [
      " * * * * * \n",
      "*          *\n",
      "*          *\n",
      "*          *\n",
      "*          *\n",
      "* * * * * * \n",
      "*          *\n",
      "*          *\n",
      "*          *\n",
      "*          *\n",
      " * * * * * \n"
     ]
    }
   ],
   "source": [
    "print_B2(10)"
   ]
  },
  {
   "cell_type": "code",
   "execution_count": 17,
   "metadata": {
    "collapsed": false
   },
   "outputs": [
    {
     "name": "stdout",
     "output_type": "stream",
     "text": [
      " * * * * * * * * * * * \n",
      "*                      *\n",
      "*                      *\n",
      "*                      *\n",
      "*                      *\n",
      "*                      *\n",
      "*                      *\n",
      "*                      *\n",
      "*                      *\n",
      "*                      *\n",
      "*                      *\n",
      "* * * * * * * * * * * * \n",
      "*                      *\n",
      "*                      *\n",
      "*                      *\n",
      "*                      *\n",
      "*                      *\n",
      "*                      *\n",
      "*                      *\n",
      "*                      *\n",
      "*                      *\n",
      "*                      *\n",
      " * * * * * * * * * * * \n"
     ]
    }
   ],
   "source": [
    "print_B2(22)"
   ]
  },
  {
   "cell_type": "code",
   "execution_count": 18,
   "metadata": {
    "collapsed": false
   },
   "outputs": [
    {
     "name": "stdout",
     "output_type": "stream",
     "text": [
      " * * * * * * * * * * * \n",
      "*                      *\n",
      "*                      *\n",
      "*                      *\n",
      "*                      *\n",
      "*                      *\n",
      "*                      *\n",
      "*                      *\n",
      "*                      *\n",
      "*                      *\n",
      "*                      *\n",
      "* * * * * * * * * * * * \n",
      "*                      *\n",
      "*                      *\n",
      "*                      *\n",
      "*                      *\n",
      "*                      *\n",
      "*                      *\n",
      "*                      *\n",
      "*                      *\n",
      "*                      *\n",
      "*                      *\n",
      " * * * * * * * * * * * \n"
     ]
    }
   ],
   "source": [
    "print_B(22)"
   ]
  },
  {
   "cell_type": "code",
   "execution_count": 21,
   "metadata": {
    "collapsed": false
   },
   "outputs": [
    {
     "name": "stdout",
     "output_type": "stream",
     "text": [
      " * * * * * * * * * * * * * * * * * * * * \n",
      "*                                        *\n",
      "*                                        *\n",
      "*                                        *\n",
      "*                                        *\n",
      "*                                        *\n",
      "*                                        *\n",
      "*                                        *\n",
      "*                                        *\n",
      "*                                        *\n",
      "*                                        *\n",
      "*                                        *\n",
      "*                                        *\n",
      "*                                        *\n",
      "*                                        *\n",
      "*                                        *\n",
      "*                                        *\n",
      "*                                        *\n",
      "*                                        *\n",
      "*                                        *\n",
      "* * * * * * * * * * * * * * * * * * * * * \n",
      "*                                        *\n",
      "*                                        *\n",
      "*                                        *\n",
      "*                                        *\n",
      "*                                        *\n",
      "*                                        *\n",
      "*                                        *\n",
      "*                                        *\n",
      "*                                        *\n",
      "*                                        *\n",
      "*                                        *\n",
      "*                                        *\n",
      "*                                        *\n",
      "*                                        *\n",
      "*                                        *\n",
      "*                                        *\n",
      "*                                        *\n",
      "*                                        *\n",
      "*                                        *\n",
      " * * * * * * * * * * * * * * * * * * * * \n"
     ]
    }
   ],
   "source": [
    "print_B2(41)"
   ]
  },
  {
   "cell_type": "code",
   "execution_count": null,
   "metadata": {
    "collapsed": true
   },
   "outputs": [],
   "source": []
  }
 ],
 "metadata": {
  "kernelspec": {
   "display_name": "Python 3",
   "language": "python",
   "name": "python3"
  },
  "language_info": {
   "codemirror_mode": {
    "name": "ipython",
    "version": 3
   },
   "file_extension": ".py",
   "mimetype": "text/x-python",
   "name": "python",
   "nbconvert_exporter": "python",
   "pygments_lexer": "ipython3",
   "version": "3.5.2"
  }
 },
 "nbformat": 4,
 "nbformat_minor": 2
}
